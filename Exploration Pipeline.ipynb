{
 "cells": [
  {
   "cell_type": "markdown",
   "metadata": {},
   "source": [
    "#### Exploration and Visualization Pipeline\n",
    "##### Generic Functions created for use with any dataframe.\n",
    "\n",
    "##### 13th May 2018"
   ]
  },
  {
   "cell_type": "code",
   "execution_count": 142,
   "metadata": {
    "collapsed": true
   },
   "outputs": [],
   "source": [
    "import pandas as pd\n",
    "import matplotlib.pyplot as plt\n",
    "import seaborn as sns; sns.set()\n",
    "import numpy as np\n",
    "import matplotlib\n",
    "%matplotlib inline"
   ]
  },
  {
   "cell_type": "code",
   "execution_count": 5,
   "metadata": {},
   "outputs": [],
   "source": [
    "df = pd.read_csv('experiment.csv')"
   ]
  },
  {
   "cell_type": "markdown",
   "metadata": {},
   "source": [
    "# EXPLORING  DATA"
   ]
  },
  {
   "cell_type": "code",
   "execution_count": 87,
   "metadata": {},
   "outputs": [],
   "source": [
    "def exploring_overview(df):\n",
    "    '''\n",
    "    This function gives a high level view of the dataset.\n",
    "    It states the attributes which exists, and provides information \n",
    "        about the dataset.\n",
    "    '''\n",
    "    list_of_columns = df.columns\n",
    "    print ('LIST OF COLUMNS: ')\n",
    "    print (list_of_columns)\n",
    "    print ()\n",
    "    \n",
    "    print ('NUMBER OF ROWS ARE: ', df.shape[0])\n",
    "    print ( 'NUMBER OF COLUMNS ARE: ', df.shape[1])\n",
    "    print ()\n",
    "    \n",
    "    print ('SOME BASIC INFORMATION ABOUT THE ATTRIBUTES: ')\n",
    "    print (df.info())\n",
    "    print ()\n",
    "    \n",
    "    print ('DESCRIPTION OF THE DATASET:')\n",
    "    print (df.describe())\n",
    "    \n",
    "    "
   ]
  },
  {
   "cell_type": "code",
   "execution_count": 48,
   "metadata": {
    "collapsed": true
   },
   "outputs": [],
   "source": [
    "def grouping_by_feature (feature, df):\n",
    "    '''\n",
    "    For a given feature, it separates the data for the different values of that feature.\n",
    "        example: for a variable 'SeriousDlqin2yrs', where two values exist i.e. 0 and 1,\n",
    "            the function separates the other variables and gives a grouped description of \n",
    "            how other variable statistics vary with this feature's division\n",
    "    '''\n",
    "    print (df.groupby(feature).mean().transpose())"
   ]
  },
  {
   "cell_type": "code",
   "execution_count": 64,
   "metadata": {},
   "outputs": [],
   "source": [
    "def comparing_across_two_features (feature1, feature2, df):\n",
    "    '''\n",
    "    For any two features, it compares the variation in the data across those two features\n",
    "    '''\n",
    "    first_entry = 'df.' + feature1\n",
    "    second_entry = 'df.' + feature2\n",
    "    \n",
    "    try:\n",
    "        pd.crosstab(first_entry, second_entry)\n",
    "    except:\n",
    "        print ()"
   ]
  },
  {
   "cell_type": "code",
   "execution_count": 68,
   "metadata": {
    "collapsed": true
   },
   "outputs": [],
   "source": [
    "def summing_nulls_in_dataset (df):\n",
    "    '''\n",
    "    Sums the null values in every attribute of the dataset, and states the null values in each \n",
    "    '''\n",
    "    print (df.isnull().sum())"
   ]
  },
  {
   "cell_type": "code",
   "execution_count": 85,
   "metadata": {},
   "outputs": [],
   "source": [
    "def counting_in_a_variable(feature, df):\n",
    "    '''\n",
    "    For a given feature and dataframe,\n",
    "        prints the total count of each category of that feature.\n",
    "    '''\n",
    "    print (df[feature].value_counts())\n"
   ]
  },
  {
   "cell_type": "code",
   "execution_count": 167,
   "metadata": {
    "collapsed": true
   },
   "outputs": [],
   "source": [
    "def counting_uniques(df):\n",
    "    '''\n",
    "    For the given dataframe, gives a sum of the unique values in each feature.\n",
    "    Then prints a plot bar to represent that.\n",
    "    '''\n",
    "    print (df.nunique())\n",
    "    print (df.nunique().plot.bar())\n"
   ]
  },
  {
   "cell_type": "markdown",
   "metadata": {},
   "source": [
    "# VISUALIZATIONS"
   ]
  },
  {
   "cell_type": "code",
   "execution_count": 100,
   "metadata": {
    "collapsed": true
   },
   "outputs": [],
   "source": [
    "def draw_correlation_matrix (df, title):\n",
    "    '''\n",
    "    Creates a heatmap that shows the correlations between the different variables in a dataframe.\n",
    "    \n",
    "    Input:\n",
    "        df: a dataframe\n",
    "        title: name of the correlation_matrix\n",
    "        \n",
    "    Return:\n",
    "        Outputs a heatmatrix showing correlations\n",
    "    \n",
    "    Code based on: https://stackoverflow.com/questions/29432629/correlation-matrix-using-pandas\n",
    "    '''\n",
    "    ax = plt.axes()\n",
    "    corr = df.corr()\n",
    "    sns.heatmap(corr, \n",
    "                xticklabels=corr.columns.values,\n",
    "                yticklabels=corr.columns.values, ax = ax) \n",
    "    ax.set_title (title)"
   ]
  },
  {
   "cell_type": "code",
   "execution_count": 136,
   "metadata": {
    "collapsed": true
   },
   "outputs": [],
   "source": [
    "def plotting_curve (dataframe, column, title):\n",
    "    '''\n",
    "    Given a dataframe, a column name, and a title,\n",
    "        displays a plot of that dataframe column distribution.\n",
    "        \n",
    "    Input:\n",
    "        dataframe\n",
    "        column: column name (string)\n",
    "        title: string\n",
    "        \n",
    "    Return:\n",
    "        displays a distribution of that variable\n",
    "        \n",
    "    Inspired by:\n",
    "        https://seaborn.pydata.org/generated/seaborn.distplot.html\n",
    "    '''\n",
    "    try:\n",
    "        ax = sns.distplot(dataframe[column])\n",
    "        ax.set_title(title)\n",
    "        plt.show()\n",
    "    except:\n",
    "        pass"
   ]
  },
  {
   "cell_type": "code",
   "execution_count": 172,
   "metadata": {
    "collapsed": true
   },
   "outputs": [],
   "source": [
    "def making_pie (df, feature):\n",
    "    '''\n",
    "    Gives a pie plot of data in any feature\n",
    "    '''\n",
    "    try: \n",
    "        df.groupby([feature]).size().plot.pie()\n",
    "    except:\n",
    "        pass"
   ]
  },
  {
   "cell_type": "code",
   "execution_count": 165,
   "metadata": {
    "collapsed": true
   },
   "outputs": [],
   "source": [
    "def plotting_bar (df, feature):\n",
    "    '''\n",
    "    Plots a bar graph based on the size of each category of that feature\n",
    "    '''\n",
    "    df.groupby([feature]).size().plot.bar()"
   ]
  },
  {
   "cell_type": "code",
   "execution_count": 210,
   "metadata": {},
   "outputs": [],
   "source": [
    "def plotting_top_10_bar_plot  (df, feature):\n",
    "    '''\n",
    "    Plots a bar plot for the top 10 common values of a given feature\n",
    "    '''\n",
    "    df.groupby([feature]).size().sort_values().iloc[-10:].plot.bar()"
   ]
  }
 ],
 "metadata": {
  "kernelspec": {
   "display_name": "Python 3",
   "language": "python",
   "name": "python3"
  },
  "language_info": {
   "codemirror_mode": {
    "name": "ipython",
    "version": 3
   },
   "file_extension": ".py",
   "mimetype": "text/x-python",
   "name": "python",
   "nbconvert_exporter": "python",
   "pygments_lexer": "ipython3",
   "version": "3.6.3"
  }
 },
 "nbformat": 4,
 "nbformat_minor": 2
}
